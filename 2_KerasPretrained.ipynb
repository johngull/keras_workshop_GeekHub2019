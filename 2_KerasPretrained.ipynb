{
  "nbformat": 4,
  "nbformat_minor": 0,
  "metadata": {
    "colab": {
      "name": "2-KerasPretrained.ipynb",
      "version": "0.3.2",
      "provenance": []
    },
    "kernelspec": {
      "name": "python3",
      "display_name": "Python 3"
    },
    "accelerator": "GPU"
  },
  "cells": [
    {
      "metadata": {
        "id": "3n_4cNlD-0gv",
        "colab_type": "text"
      },
      "cell_type": "markdown",
      "source": [
        "**GeekHub 2018-2019 DL workshop. 2nd part**\n",
        "\n",
        "In this part we will find simpler way to classify images with the pretrained models. And will improve quality with the augmentation.\n",
        "\n",
        "Lets'go."
      ]
    },
    {
      "metadata": {
        "id": "pjQTMvMRqC4r",
        "colab_type": "code",
        "outputId": "c2c5d53d-0756-400b-f4b5-ea53ec677c6a",
        "colab": {
          "base_uri": "https://localhost:8080/",
          "height": 663
        }
      },
      "cell_type": "code",
      "source": [
        "!pip install imgaug\n",
        "# next line to remove problem of numpy dependencies on some machines\n",
        "!pip install --upgrade scikit-image"
      ],
      "execution_count": 0,
      "outputs": [
        {
          "output_type": "stream",
          "text": [
            "Requirement already satisfied: imgaug in /usr/local/lib/python3.6/dist-packages (0.2.8)\n",
            "Requirement already satisfied: Shapely in /usr/local/lib/python3.6/dist-packages (from imgaug) (1.6.4.post2)\n",
            "Requirement already satisfied: six in /usr/local/lib/python3.6/dist-packages (from imgaug) (1.11.0)\n",
            "Requirement already satisfied: opencv-python in /usr/local/lib/python3.6/dist-packages (from imgaug) (3.4.5.20)\n",
            "Requirement already satisfied: Pillow in /usr/local/lib/python3.6/dist-packages (from imgaug) (5.4.1)\n",
            "Requirement already satisfied: scikit-image>=0.11.0 in /usr/local/lib/python3.6/dist-packages (from imgaug) (0.14.2)\n",
            "Requirement already satisfied: numpy>=1.15.0 in /usr/local/lib/python3.6/dist-packages (from imgaug) (1.16.2)\n",
            "Requirement already satisfied: scipy in /usr/local/lib/python3.6/dist-packages (from imgaug) (1.1.0)\n",
            "Requirement already satisfied: matplotlib in /usr/local/lib/python3.6/dist-packages (from imgaug) (3.0.3)\n",
            "Requirement already satisfied: imageio in /usr/local/lib/python3.6/dist-packages (from imgaug) (2.4.1)\n",
            "Requirement already satisfied: networkx>=1.8 in /usr/local/lib/python3.6/dist-packages (from scikit-image>=0.11.0->imgaug) (2.2)\n",
            "Requirement already satisfied: dask[array]>=1.0.0 in /usr/local/lib/python3.6/dist-packages (from scikit-image>=0.11.0->imgaug) (1.1.4)\n",
            "Requirement already satisfied: PyWavelets>=0.4.0 in /usr/local/lib/python3.6/dist-packages (from scikit-image>=0.11.0->imgaug) (1.0.2)\n",
            "Requirement already satisfied: cloudpickle>=0.2.1 in /usr/local/lib/python3.6/dist-packages (from scikit-image>=0.11.0->imgaug) (0.6.1)\n",
            "Requirement already satisfied: kiwisolver>=1.0.1 in /usr/local/lib/python3.6/dist-packages (from matplotlib->imgaug) (1.0.1)\n",
            "Requirement already satisfied: pyparsing!=2.0.4,!=2.1.2,!=2.1.6,>=2.0.1 in /usr/local/lib/python3.6/dist-packages (from matplotlib->imgaug) (2.3.1)\n",
            "Requirement already satisfied: cycler>=0.10 in /usr/local/lib/python3.6/dist-packages (from matplotlib->imgaug) (0.10.0)\n",
            "Requirement already satisfied: python-dateutil>=2.1 in /usr/local/lib/python3.6/dist-packages (from matplotlib->imgaug) (2.5.3)\n",
            "Requirement already satisfied: decorator>=4.3.0 in /usr/local/lib/python3.6/dist-packages (from networkx>=1.8->scikit-image>=0.11.0->imgaug) (4.3.2)\n",
            "Requirement already satisfied: toolz>=0.7.3; extra == \"array\" in /usr/local/lib/python3.6/dist-packages (from dask[array]>=1.0.0->scikit-image>=0.11.0->imgaug) (0.9.0)\n",
            "Requirement already satisfied: setuptools in /usr/local/lib/python3.6/dist-packages (from kiwisolver>=1.0.1->matplotlib->imgaug) (40.8.0)\n",
            "Requirement already up-to-date: scikit-image in /usr/local/lib/python3.6/dist-packages (0.14.2)\n",
            "Requirement already satisfied, skipping upgrade: pillow>=4.3.0 in /usr/local/lib/python3.6/dist-packages (from scikit-image) (5.4.1)\n",
            "Requirement already satisfied, skipping upgrade: dask[array]>=1.0.0 in /usr/local/lib/python3.6/dist-packages (from scikit-image) (1.1.4)\n",
            "Requirement already satisfied, skipping upgrade: scipy>=0.17.0 in /usr/local/lib/python3.6/dist-packages (from scikit-image) (1.1.0)\n",
            "Requirement already satisfied, skipping upgrade: cloudpickle>=0.2.1 in /usr/local/lib/python3.6/dist-packages (from scikit-image) (0.6.1)\n",
            "Requirement already satisfied, skipping upgrade: matplotlib>=2.0.0 in /usr/local/lib/python3.6/dist-packages (from scikit-image) (3.0.3)\n",
            "Requirement already satisfied, skipping upgrade: networkx>=1.8 in /usr/local/lib/python3.6/dist-packages (from scikit-image) (2.2)\n",
            "Requirement already satisfied, skipping upgrade: PyWavelets>=0.4.0 in /usr/local/lib/python3.6/dist-packages (from scikit-image) (1.0.2)\n",
            "Requirement already satisfied, skipping upgrade: six>=1.10.0 in /usr/local/lib/python3.6/dist-packages (from scikit-image) (1.11.0)\n",
            "Requirement already satisfied, skipping upgrade: toolz>=0.7.3; extra == \"array\" in /usr/local/lib/python3.6/dist-packages (from dask[array]>=1.0.0->scikit-image) (0.9.0)\n",
            "Requirement already satisfied, skipping upgrade: numpy>=1.11.0; extra == \"array\" in /usr/local/lib/python3.6/dist-packages (from dask[array]>=1.0.0->scikit-image) (1.16.2)\n",
            "Requirement already satisfied, skipping upgrade: cycler>=0.10 in /usr/local/lib/python3.6/dist-packages (from matplotlib>=2.0.0->scikit-image) (0.10.0)\n",
            "Requirement already satisfied, skipping upgrade: pyparsing!=2.0.4,!=2.1.2,!=2.1.6,>=2.0.1 in /usr/local/lib/python3.6/dist-packages (from matplotlib>=2.0.0->scikit-image) (2.3.1)\n",
            "Requirement already satisfied, skipping upgrade: kiwisolver>=1.0.1 in /usr/local/lib/python3.6/dist-packages (from matplotlib>=2.0.0->scikit-image) (1.0.1)\n",
            "Requirement already satisfied, skipping upgrade: python-dateutil>=2.1 in /usr/local/lib/python3.6/dist-packages (from matplotlib>=2.0.0->scikit-image) (2.5.3)\n",
            "Requirement already satisfied, skipping upgrade: decorator>=4.3.0 in /usr/local/lib/python3.6/dist-packages (from networkx>=1.8->scikit-image) (4.3.2)\n",
            "Requirement already satisfied, skipping upgrade: setuptools in /usr/local/lib/python3.6/dist-packages (from kiwisolver>=1.0.1->matplotlib>=2.0.0->scikit-image) (40.8.0)\n"
          ],
          "name": "stdout"
        }
      ]
    },
    {
      "metadata": {
        "id": "-UuBQrPx-ptG",
        "colab_type": "code",
        "outputId": "491e5d50-78ad-4066-95d0-288fb43d763b",
        "colab": {
          "base_uri": "https://localhost:8080/",
          "height": 34
        }
      },
      "cell_type": "code",
      "source": [
        "import numpy as np\n",
        "from keras import layers, initializers, optimizers, regularizers\n",
        "from keras import datasets, models, callbacks, applications, utils\n",
        "import matplotlib.pyplot as plt\n",
        "import tensorflow as tf\n",
        "from imgaug import augmenters as iaa\n",
        "\n",
        "from PIL import Image\n",
        "import os\n",
        "from sklearn.model_selection import train_test_split"
      ],
      "execution_count": 0,
      "outputs": [
        {
          "output_type": "stream",
          "text": [
            "Using TensorFlow backend.\n"
          ],
          "name": "stderr"
        }
      ]
    },
    {
      "metadata": {
        "id": "rm3VUXhgG81R",
        "colab_type": "text"
      },
      "cell_type": "markdown",
      "source": [
        "This time we will play with the synthetic LEGO images. Important that images are much bigger. But still small enough for quick tests."
      ]
    },
    {
      "metadata": {
        "id": "4YvPR2CbAdCK",
        "colab_type": "code",
        "outputId": "58be9c33-dac9-44b7-ffa5-d651bcbe298f",
        "colab": {
          "base_uri": "https://localhost:8080/",
          "height": 221
        }
      },
      "cell_type": "code",
      "source": [
        "!wget https://dl.dropboxusercontent.com/s/6jkj9txsd6cqkow/LEGO%20brick%20images.zip\n",
        "!unzip -q \"LEGO brick images.zip\"\n",
        "# !ls -l 'LEGO brick images/32123 half Bush'"
      ],
      "execution_count": 0,
      "outputs": [
        {
          "output_type": "stream",
          "text": [
            "--2019-03-14 13:26:27--  https://dl.dropboxusercontent.com/s/6jkj9txsd6cqkow/LEGO%20brick%20images.zip\n",
            "Resolving dl.dropboxusercontent.com (dl.dropboxusercontent.com)... 162.125.8.6, 2620:100:601b:6::a27d:806\n",
            "Connecting to dl.dropboxusercontent.com (dl.dropboxusercontent.com)|162.125.8.6|:443... connected.\n",
            "HTTP request sent, awaiting response... 200 OK\n",
            "Length: 91010364 (87M) [application/zip]\n",
            "Saving to: ‘LEGO brick images.zip.3’\n",
            "\n",
            "LEGO brick images.z 100%[===================>]  86.79M  54.0MB/s    in 1.6s    \n",
            "\n",
            "2019-03-14 13:26:29 (54.0 MB/s) - ‘LEGO brick images.zip.3’ saved [91010364/91010364]\n",
            "\n",
            "replace LEGO brick images/11214 Bush 3M friction with Cross axle/201706171006-0001.png? [y]es, [n]o, [A]ll, [N]one, [r]ename: N\n"
          ],
          "name": "stdout"
        }
      ]
    },
    {
      "metadata": {
        "id": "3SvFhfrSCLIz",
        "colab_type": "code",
        "outputId": "1d7d5926-f85a-4d3a-8d74-266bee5dcaa3",
        "colab": {
          "base_uri": "https://localhost:8080/",
          "height": 217
        }
      },
      "cell_type": "code",
      "source": [
        "Image.open('LEGO brick images/32123 half Bush/201706171506-0001.png')"
      ],
      "execution_count": 0,
      "outputs": [
        {
          "output_type": "execute_result",
          "data": {
            "image/png": "[encoded data removed]",
            "text/plain": [
              "<PIL.PngImagePlugin.PngImageFile image mode=RGBA size=200x200 at 0x7FDD04C9EF98>"
            ]
          },
          "metadata": {
            "tags": []
          },
          "execution_count": 4
        }
      ]
    },
    {
      "metadata": {
        "id": "HQJZEjmXHM_Y",
        "colab_type": "text"
      },
      "cell_type": "markdown",
      "source": [
        "Lets collect all types of labels and all files we have in dataset.\n",
        "And also lets divide it to the train/val/test datasets.\n",
        "\n",
        "Will load everything to memory just for simplicity. In real cases this is bad idea."
      ]
    },
    {
      "metadata": {
        "id": "6Wk3Q6okHW5l",
        "colab_type": "code",
        "outputId": "1260a93c-8836-4e10-e4b4-d8965c1416a2",
        "colab": {
          "base_uri": "https://localhost:8080/",
          "height": 71
        }
      },
      "cell_type": "code",
      "source": [
        "root_path = 'LEGO brick images'\n",
        "\n",
        "labels = []\n",
        "for filename in os.listdir(root_path):\n",
        "    if os.path.isdir(os.path.join(os.path.abspath(root_path), filename)): \n",
        "        labels.append(filename)\n",
        "        \n",
        "print(\"classes:\", labels)\n",
        "\n",
        "X = []\n",
        "y = []\n",
        "\n",
        "for label in range(len(labels)):\n",
        "  d = (os.path.join(os.path.abspath(root_path), labels[label]))\n",
        "  for filename in sorted(os.listdir(d)):\n",
        "    y.append(label)\n",
        "    X.append(np.asarray(Image.open(os.path.join(d, filename)))[:, :, :3]) #remove alpha channel\n",
        "\n",
        "print(\"overall images:\", len(X))\n",
        "\n",
        "X = np.stack(X).astype(np.float32)/255.0\n",
        "\n",
        "X_train, X_test_all, y_train, y_test_all = train_test_split(X, y, test_size=0.5, random_state=42)\n",
        "X_val, X_test, y_val, y_test = train_test_split(X_test_all, y_test_all, test_size=0.5, random_state=42)\n",
        "\n",
        "del X\n",
        "del y\n",
        "del X_test_all\n",
        "del y_test_all"
      ],
      "execution_count": 0,
      "outputs": [
        {
          "output_type": "stream",
          "text": [
            "classes: ['6632 Technic Lever 3M', '32123 half Bush', '3673 Peg 2M', '3069 Flat Tile 1x2', '3040 Roof Tile 1x2x45deg', '3004 Brick 1x2', '2357 Brick corner 1x2x2', '3023 Plate 1x2', '3022 Plate 2x2', '3024 Plate 1x1', '3794 Plate 1X2 with 1 Knob', '3713 Bush for Cross Axle', '3005 Brick 1x1', '18651 Cross Axle 2M with Snap friction', '3003 Brick 2x2', '11214 Bush 3M friction with Cross axle']\n",
            "overall images: 6379\n"
          ],
          "name": "stdout"
        }
      ]
    },
    {
      "metadata": {
        "id": "-Ht-9vqVa9vk",
        "colab_type": "text"
      },
      "cell_type": "markdown",
      "source": [
        "Now we can take a look on our images."
      ]
    },
    {
      "metadata": {
        "id": "LojVeRYPbBUU",
        "colab_type": "code",
        "outputId": "9717e15c-384c-44ce-dd26-071478f62965",
        "colab": {
          "base_uri": "https://localhost:8080/",
          "height": 589
        }
      },
      "cell_type": "code",
      "source": [
        "plt.figure(figsize=(10,10))\n",
        "for i in range(25):\n",
        "    plt.subplot(5,5,i+1)\n",
        "    plt.xticks([])\n",
        "    plt.yticks([])\n",
        "    plt.grid(False)\n",
        "    plt.imshow(X_train[i], cmap=plt.cm.binary)\n",
        "    plt.xlabel(labels[y_train[i]])\n",
        "plt.show()"
      ],
      "execution_count": 0,
      "outputs": [
        {
          "output_type": "display_data",
          "data": {
            "image/png": "[encoded data removed]",
            "text/plain": [
              "<Figure size 720x720 with 25 Axes>"
            ]
          },
          "metadata": {
            "tags": []
          }
        }
      ]
    },
    {
      "metadata": {
        "id": "11-vKrdwbffb",
        "colab_type": "text"
      },
      "cell_type": "markdown",
      "source": [
        "This time instead of creating of our own model we will use external model. Easiest way is to take model from `keras.applications`."
      ]
    },
    {
      "metadata": {
        "id": "TjxG6EFZbq5_",
        "colab_type": "code",
        "outputId": "53dc655d-b060-4171-e65c-9083e5323f17",
        "colab": {
          "base_uri": "https://localhost:8080/",
          "height": 1207
        }
      },
      "cell_type": "code",
      "source": [
        "model = applications.ResNet50(weights=None, input_shape=(200, 200, 3), classes=len(labels))\n",
        "\n",
        "model.compile(optimizer='adam', \n",
        "              loss='sparse_categorical_crossentropy',\n",
        "              metrics=['accuracy'])\n",
        "\n",
        "model.fit(X_train, y_train,\n",
        "          validation_data=(X_val, y_val),\n",
        "          batch_size=16,\n",
        "          epochs=15,\n",
        "          callbacks=[\n",
        "              callbacks.ModelCheckpoint('weights.h5', verbose=1, save_best_only=True, save_weights_only=True),\n",
        "              callbacks.ReduceLROnPlateau(patience=2, verbose=1),\n",
        "              callbacks.EarlyStopping(patience=4, verbose=1)\n",
        "          ]\n",
        "         )"
      ],
      "execution_count": 0,
      "outputs": [
        {
          "output_type": "stream",
          "text": [
            "WARNING:tensorflow:From /usr/local/lib/python3.6/dist-packages/tensorflow/python/framework/op_def_library.py:263: colocate_with (from tensorflow.python.framework.ops) is deprecated and will be removed in a future version.\n",
            "Instructions for updating:\n",
            "Colocations handled automatically by placer.\n",
            "WARNING:tensorflow:From /usr/local/lib/python3.6/dist-packages/tensorflow/python/ops/math_ops.py:3066: to_int32 (from tensorflow.python.ops.math_ops) is deprecated and will be removed in a future version.\n",
            "Instructions for updating:\n",
            "Use tf.cast instead.\n",
            "Train on 3189 samples, validate on 1595 samples\n",
            "Epoch 1/15\n",
            "3189/3189 [==============================] - 134s 42ms/step - loss: 1.6043 - acc: 0.4907 - val_loss: 11.3847 - val_acc: 0.1599\n",
            "\n",
            "Epoch 00001: val_loss improved from inf to 11.38467, saving model to weights.h5\n",
            "Epoch 2/15\n",
            "3189/3189 [==============================] - 117s 37ms/step - loss: 0.9477 - acc: 0.6670 - val_loss: 5.2687 - val_acc: 0.3185\n",
            "\n",
            "Epoch 00002: val_loss improved from 11.38467 to 5.26869, saving model to weights.h5\n",
            "Epoch 3/15\n",
            "3189/3189 [==============================] - 117s 37ms/step - loss: 0.7708 - acc: 0.7391 - val_loss: 4.5492 - val_acc: 0.4226\n",
            "\n",
            "Epoch 00003: val_loss improved from 5.26869 to 4.54916, saving model to weights.h5\n",
            "Epoch 4/15\n",
            "3189/3189 [==============================] - 118s 37ms/step - loss: 0.6131 - acc: 0.7839 - val_loss: 5.4402 - val_acc: 0.3373\n",
            "\n",
            "Epoch 00004: val_loss did not improve from 4.54916\n",
            "Epoch 5/15\n",
            "3189/3189 [==============================] - 118s 37ms/step - loss: 0.5123 - acc: 0.8169 - val_loss: 3.0952 - val_acc: 0.5223\n",
            "\n",
            "Epoch 00005: val_loss improved from 4.54916 to 3.09522, saving model to weights.h5\n",
            "Epoch 6/15\n",
            "3189/3189 [==============================] - 117s 37ms/step - loss: 0.3987 - acc: 0.8529 - val_loss: 0.7950 - val_acc: 0.7517\n",
            "\n",
            "Epoch 00006: val_loss improved from 3.09522 to 0.79505, saving model to weights.h5\n",
            "Epoch 7/15\n",
            "3189/3189 [==============================] - 117s 37ms/step - loss: 0.3707 - acc: 0.8827 - val_loss: 2.1026 - val_acc: 0.5536\n",
            "\n",
            "Epoch 00007: val_loss did not improve from 0.79505\n",
            "Epoch 8/15\n",
            "3189/3189 [==============================] - 117s 37ms/step - loss: 0.2811 - acc: 0.8990 - val_loss: 0.7444 - val_acc: 0.7693\n",
            "\n",
            "Epoch 00008: val_loss improved from 0.79505 to 0.74445, saving model to weights.h5\n",
            "Epoch 9/15\n",
            "3189/3189 [==============================] - 118s 37ms/step - loss: 0.2899 - acc: 0.9028 - val_loss: 1.2958 - val_acc: 0.7241\n",
            "\n",
            "Epoch 00009: val_loss did not improve from 0.74445\n",
            "Epoch 10/15\n",
            "3189/3189 [==============================] - 118s 37ms/step - loss: 0.2569 - acc: 0.9156 - val_loss: 1.8215 - val_acc: 0.5762\n",
            "\n",
            "Epoch 00010: val_loss did not improve from 0.74445\n",
            "\n",
            "Epoch 00010: ReduceLROnPlateau reducing learning rate to 0.00010000000474974513.\n",
            "Epoch 11/15\n",
            "3189/3189 [==============================] - 117s 37ms/step - loss: 0.0867 - acc: 0.9765 - val_loss: 0.1675 - val_acc: 0.9429\n",
            "\n",
            "Epoch 00011: val_loss improved from 0.74445 to 0.16749, saving model to weights.h5\n",
            "Epoch 12/15\n",
            "3189/3189 [==============================] - 118s 37ms/step - loss: 0.0361 - acc: 0.9947 - val_loss: 0.1018 - val_acc: 0.9699\n",
            "\n",
            "Epoch 00012: val_loss improved from 0.16749 to 0.10179, saving model to weights.h5\n",
            "Epoch 13/15\n",
            "3189/3189 [==============================] - 118s 37ms/step - loss: 0.0232 - acc: 0.9972 - val_loss: 0.0982 - val_acc: 0.9674\n",
            "\n",
            "Epoch 00013: val_loss improved from 0.10179 to 0.09820, saving model to weights.h5\n",
            "Epoch 14/15\n",
            "3189/3189 [==============================] - 118s 37ms/step - loss: 0.0181 - acc: 0.9966 - val_loss: 0.0980 - val_acc: 0.9737\n",
            "\n",
            "Epoch 00014: val_loss improved from 0.09820 to 0.09797, saving model to weights.h5\n",
            "Epoch 15/15\n",
            "3189/3189 [==============================] - 117s 37ms/step - loss: 0.0143 - acc: 0.9984 - val_loss: 0.0869 - val_acc: 0.9749\n",
            "\n",
            "Epoch 00015: val_loss improved from 0.09797 to 0.08690, saving model to weights.h5\n"
          ],
          "name": "stdout"
        },
        {
          "output_type": "execute_result",
          "data": {
            "text/plain": [
              "<keras.callbacks.History at 0x7fdcf48df358>"
            ]
          },
          "metadata": {
            "tags": []
          },
          "execution_count": 7
        }
      ]
    },
    {
      "metadata": {
        "id": "Ds95gBrafgDi",
        "colab_type": "code",
        "outputId": "1e1f9f7a-f04b-495b-9c57-9a57c12fc635",
        "colab": {
          "base_uri": "https://localhost:8080/",
          "height": 51
        }
      },
      "cell_type": "code",
      "source": [
        "model.evaluate(X_test, y_test)"
      ],
      "execution_count": 0,
      "outputs": [
        {
          "output_type": "stream",
          "text": [
            "1595/1595 [==============================] - 14s 9ms/step\n"
          ],
          "name": "stdout"
        },
        {
          "output_type": "execute_result",
          "data": {
            "text/plain": [
              "[0.08383505404182362, 0.973040752724794]"
            ]
          },
          "metadata": {
            "tags": []
          },
          "execution_count": 8
        }
      ]
    },
    {
      "metadata": {
        "id": "Lyo5ezP7fxAI",
        "colab_type": "text"
      },
      "cell_type": "markdown",
      "source": [
        "Accuracy is 97.7% on test set. Very impressive.\n",
        "\n",
        "But we used only 3189 images for training and it is already was not very quick.\n",
        "What if you have millions of images?\n",
        "How we can speed process.\n",
        "\n",
        "Solution comes from the idea that all images has a lot of common, so we can use learned features on big natural images dataset.\n",
        "And we can train only top level features which describe space of our images.\n",
        "In Keras it is easy to implement."
      ]
    },
    {
      "metadata": {
        "id": "XOyT0WKRwbzf",
        "colab_type": "code",
        "colab": {}
      },
      "cell_type": "code",
      "source": [
        "X_train = X_train*2-1\n",
        "X_val = X_val*2-1\n",
        "X_test = X_test*2-1"
      ],
      "execution_count": 0,
      "outputs": []
    },
    {
      "metadata": {
        "id": "xQnLvPzghRym",
        "colab_type": "code",
        "outputId": "b8f63ff7-ae42-4221-e160-16ee12261b5e",
        "colab": {
          "base_uri": "https://localhost:8080/",
          "height": 884
        }
      },
      "cell_type": "code",
      "source": [
        "#pretrained model without top layer\n",
        "base_model = applications.ResNet50(include_top=False, weights='imagenet', input_shape=(200, 200, 3), pooling='avg')\n",
        "#fix weights\n",
        "base_model.trainable = False\n",
        "\n",
        "#and our model become simple\n",
        "inp = layers.Input((200, 200, 3))\n",
        "resnet = base_model(inp)\n",
        "\n",
        "fc = layers.Dense(len(labels))(resnet)\n",
        "fc = layers.Activation('softmax')(fc)\n",
        "\n",
        "model = models.Model(inp, fc)\n",
        "\n",
        "model.compile(optimizer='adam', \n",
        "              loss='sparse_categorical_crossentropy',\n",
        "              metrics=['accuracy'])\n",
        "\n",
        "#train only dense layer on top\n",
        "model.fit(X_train, y_train,\n",
        "          validation_data=(X_val, y_val),\n",
        "          batch_size=16,\n",
        "          epochs=1,\n",
        "          callbacks=[\n",
        "              callbacks.ModelCheckpoint('weights.h5', verbose=1, save_best_only=True, save_weights_only=True),\n",
        "              callbacks.ReduceLROnPlateau(patience=2, verbose=1),\n",
        "              callbacks.EarlyStopping(patience=4, verbose=1)\n",
        "          ]\n",
        "         )\n",
        "\n",
        "\n",
        "#unfreeze all weights and train \n",
        "base_model.trainable = True\n",
        "model.compile(optimizer=optimizers.Adam(1e-4), \n",
        "              loss='sparse_categorical_crossentropy',\n",
        "              metrics=['accuracy'])\n",
        "\n",
        "model.fit(X_train, y_train,\n",
        "          validation_data=(X_val, y_val),\n",
        "          batch_size=16,\n",
        "          epochs=10,\n",
        "          callbacks=[\n",
        "              callbacks.ModelCheckpoint('weights.h5', verbose=1, save_best_only=True, save_weights_only=True),\n",
        "              callbacks.ReduceLROnPlateau(patience=2, verbose=1),\n",
        "              callbacks.EarlyStopping(patience=4, verbose=1)\n",
        "          ]\n",
        "         )"
      ],
      "execution_count": 0,
      "outputs": [
        {
          "output_type": "stream",
          "text": [
            "Train on 3189 samples, validate on 1595 samples\n",
            "Epoch 1/1\n",
            "3189/3189 [==============================] - 46s 14ms/step - loss: 1.2169 - acc: 0.6221 - val_loss: 3.2935 - val_acc: 0.0727\n",
            "\n",
            "Epoch 00001: val_loss improved from inf to 3.29347, saving model to weights.h5\n",
            "Train on 3189 samples, validate on 1595 samples\n",
            "Epoch 1/10\n",
            "3189/3189 [==============================] - 137s 43ms/step - loss: 0.3889 - acc: 0.8639 - val_loss: 0.3236 - val_acc: 0.8853\n",
            "\n",
            "Epoch 00001: val_loss improved from inf to 0.32361, saving model to weights.h5\n",
            "Epoch 2/10\n",
            "3189/3189 [==============================] - 117s 37ms/step - loss: 0.1249 - acc: 0.9567 - val_loss: 0.2244 - val_acc: 0.9266\n",
            "\n",
            "Epoch 00002: val_loss improved from 0.32361 to 0.22441, saving model to weights.h5\n",
            "Epoch 3/10\n",
            "3189/3189 [==============================] - 117s 37ms/step - loss: 0.0676 - acc: 0.9777 - val_loss: 0.4060 - val_acc: 0.8571\n",
            "\n",
            "Epoch 00003: val_loss did not improve from 0.22441\n",
            "Epoch 4/10\n",
            "3189/3189 [==============================] - 116s 36ms/step - loss: 0.0754 - acc: 0.9777 - val_loss: 0.1059 - val_acc: 0.9549\n",
            "\n",
            "Epoch 00004: val_loss improved from 0.22441 to 0.10587, saving model to weights.h5\n",
            "Epoch 5/10\n",
            "3189/3189 [==============================] - 117s 37ms/step - loss: 0.0348 - acc: 0.9903 - val_loss: 0.5224 - val_acc: 0.8295\n",
            "\n",
            "Epoch 00005: val_loss did not improve from 0.10587\n",
            "Epoch 6/10\n",
            "3189/3189 [==============================] - 117s 37ms/step - loss: 0.0287 - acc: 0.9909 - val_loss: 0.1147 - val_acc: 0.9630\n",
            "\n",
            "Epoch 00006: val_loss did not improve from 0.10587\n",
            "\n",
            "Epoch 00006: ReduceLROnPlateau reducing learning rate to 9.999999747378752e-06.\n",
            "Epoch 7/10\n",
            "3189/3189 [==============================] - 117s 37ms/step - loss: 0.0076 - acc: 0.9987 - val_loss: 0.0384 - val_acc: 0.9887\n",
            "\n",
            "Epoch 00007: val_loss improved from 0.10587 to 0.03845, saving model to weights.h5\n",
            "Epoch 8/10\n",
            "3189/3189 [==============================] - 116s 36ms/step - loss: 0.0043 - acc: 0.9991 - val_loss: 0.0357 - val_acc: 0.9906\n",
            "\n",
            "Epoch 00008: val_loss improved from 0.03845 to 0.03575, saving model to weights.h5\n",
            "Epoch 9/10\n",
            "3189/3189 [==============================] - 117s 37ms/step - loss: 0.0024 - acc: 1.0000 - val_loss: 0.0359 - val_acc: 0.9912\n",
            "\n",
            "Epoch 00009: val_loss did not improve from 0.03575\n",
            "Epoch 10/10\n",
            "3189/3189 [==============================] - 117s 37ms/step - loss: 0.0019 - acc: 0.9997 - val_loss: 0.0375 - val_acc: 0.9912\n",
            "\n",
            "Epoch 00010: val_loss did not improve from 0.03575\n",
            "\n",
            "Epoch 00010: ReduceLROnPlateau reducing learning rate to 9.999999747378752e-07.\n"
          ],
          "name": "stdout"
        },
        {
          "output_type": "execute_result",
          "data": {
            "text/plain": [
              "<keras.callbacks.History at 0x7fdcd7e38b70>"
            ]
          },
          "metadata": {
            "tags": []
          },
          "execution_count": 10
        }
      ]
    },
    {
      "metadata": {
        "id": "cLzUwwYiPA1-",
        "colab_type": "code",
        "outputId": "a95e0b5c-6697-4e36-8bcc-019484ffd8c8",
        "colab": {
          "base_uri": "https://localhost:8080/",
          "height": 51
        }
      },
      "cell_type": "code",
      "source": [
        "model.evaluate(X_test, y_test)"
      ],
      "execution_count": 0,
      "outputs": [
        {
          "output_type": "stream",
          "text": [
            "1595/1595 [==============================] - 13s 8ms/step\n"
          ],
          "name": "stdout"
        },
        {
          "output_type": "execute_result",
          "data": {
            "text/plain": [
              "[0.031716630544782055, 0.9880877746683677]"
            ]
          },
          "metadata": {
            "tags": []
          },
          "execution_count": 11
        }
      ]
    },
    {
      "metadata": {
        "id": "h8vmN8CiPATG",
        "colab_type": "text"
      },
      "cell_type": "markdown",
      "source": [
        "With the less amount of epochs we got even better result - 99% accuracy.\n",
        "\n",
        "\n",
        "\n",
        "---\n",
        "\n",
        "\n",
        "What else can we do?\n",
        "\n",
        "Let's try to make our algorithm more stable by extending dataset.\n",
        "For this you can go to childroom and make some photos of LEGO :)\n",
        "Other way is to make some modification of images each time we use it in training - thats caled **augmentation**.\n",
        "\n",
        "We will implement it with Keras `Sequence` subclassing and with the library `imgaug`.\n"
      ]
    },
    {
      "metadata": {
        "id": "bWGJewuTp5rK",
        "colab_type": "code",
        "colab": {}
      },
      "cell_type": "code",
      "source": [
        "class AugmentedSequence(utils.Sequence):\n",
        "  def __init__(self, X, y, batch_size):\n",
        "    self.X = np.array(X)\n",
        "    self.y = np.array(y)\n",
        "    self.batch_size = batch_size\n",
        "    \n",
        "    #for shuffling\n",
        "    self.ids = np.random.permutation(range(len(X)))\n",
        "    \n",
        "    #for augmentation\n",
        "    self.seq = iaa.Sequential([\n",
        "        iaa.Fliplr(0.5),\n",
        "        iaa.Flipud(0.5),\n",
        "        iaa.Affine(scale=(0.8, 1.2), translate_percent=(-0.2, 0.2), rotate=(-15, 15))\n",
        "    ])\n",
        "    \n",
        "  def __len__(self):\n",
        "    return int(np.ceil(len(self.X)/float(self.batch_size)))\n",
        "  \n",
        "  def __getitem__(self, index):\n",
        "    start = index * self.batch_size\n",
        "    end = np.minimum((index + 1) * self.batch_size, len(self.X))\n",
        "    \n",
        "    ids = self.ids[start:end]\n",
        "    \n",
        "    batchX = self.X[ids]\n",
        "    batchy = self.y[ids]\n",
        "    \n",
        "    batchX = self.seq.augment_images(batchX)\n",
        "    \n",
        "    return np.array(batchX), np.array(batchy)\n",
        "  \n",
        "  def on_epoch_end(self):    \n",
        "    self.ids = np.random.permutation(range(len(self.X)))\n",
        "    \n",
        "    "
      ],
      "execution_count": 0,
      "outputs": []
    },
    {
      "metadata": {
        "id": "foz3CYwdtInS",
        "colab_type": "text"
      },
      "cell_type": "markdown",
      "source": [
        "And now lets try to repeat absolutely the same training, just by using `fit_generator` and our sequence."
      ]
    },
    {
      "metadata": {
        "id": "kjn0oV91snB8",
        "colab_type": "code",
        "outputId": "9f47e290-37f5-41b0-9d64-0244792e67f3",
        "colab": {
          "base_uri": "https://localhost:8080/",
          "height": 816
        }
      },
      "cell_type": "code",
      "source": [
        "#pretrained model without top layer\n",
        "base_model = applications.ResNet50(include_top=False, weights='imagenet', input_shape=(200, 200, 3), pooling='avg')\n",
        "#fix weights\n",
        "base_model.trainable = False\n",
        "\n",
        "#and our model become simple\n",
        "inp = layers.Input((200, 200, 3))\n",
        "resnet = base_model(inp)\n",
        "\n",
        "fc = layers.Dense(len(labels))(resnet)\n",
        "fc = layers.Activation('softmax')(fc)\n",
        "\n",
        "model = models.Model(inp, fc)\n",
        "\n",
        "model.compile(optimizer='adam', \n",
        "              loss='sparse_categorical_crossentropy',\n",
        "              metrics=['accuracy'])\n",
        "\n",
        "generator = AugmentedSequence(X_train, y_train, 16)\n",
        "\n",
        "#train only dense layer on top\n",
        "model.fit_generator(generator,\n",
        "          validation_data=(X_val, y_val),\n",
        "          epochs=1,\n",
        "          callbacks=[\n",
        "              callbacks.ModelCheckpoint('weights.h5', verbose=1, save_best_only=True, save_weights_only=True),\n",
        "              callbacks.ReduceLROnPlateau(patience=2, verbose=1),\n",
        "              callbacks.EarlyStopping(patience=4, verbose=1)\n",
        "          ]\n",
        "         )\n",
        "\n",
        "\n",
        "#unfreeze all weights and train \n",
        "base_model.trainable = True\n",
        "model.compile(optimizer=optimizers.Adam(1e-4), \n",
        "              loss='sparse_categorical_crossentropy',\n",
        "              metrics=['accuracy'])\n",
        "\n",
        "model.fit_generator(generator,\n",
        "          validation_data=(X_val, y_val),\n",
        "          epochs=10,\n",
        "          callbacks=[\n",
        "              callbacks.ModelCheckpoint('weights.h5', verbose=1, save_best_only=True, save_weights_only=True),\n",
        "              callbacks.ReduceLROnPlateau(patience=2, verbose=1),\n",
        "              callbacks.EarlyStopping(patience=4, verbose=1)\n",
        "          ]\n",
        "         )"
      ],
      "execution_count": 0,
      "outputs": [
        {
          "output_type": "stream",
          "text": [
            "Epoch 1/1\n",
            "200/200 [==============================] - 52s 258ms/step - loss: 1.4828 - acc: 0.5235 - val_loss: 3.3032 - val_acc: 0.0727\n",
            "\n",
            "Epoch 00001: val_loss improved from inf to 3.30325, saving model to weights.h5\n",
            "Epoch 1/10\n",
            "200/200 [==============================] - 140s 702ms/step - loss: 0.5202 - acc: 0.8127 - val_loss: 1.0858 - val_acc: 0.6959\n",
            "\n",
            "Epoch 00001: val_loss improved from inf to 1.08576, saving model to weights.h5\n",
            "Epoch 2/10\n",
            "200/200 [==============================] - 118s 588ms/step - loss: 0.2781 - acc: 0.9000 - val_loss: 0.7174 - val_acc: 0.7724\n",
            "\n",
            "Epoch 00002: val_loss improved from 1.08576 to 0.71743, saving model to weights.h5\n",
            "Epoch 3/10\n",
            "200/200 [==============================] - 119s 595ms/step - loss: 0.2261 - acc: 0.9112 - val_loss: 0.3499 - val_acc: 0.8846\n",
            "\n",
            "Epoch 00003: val_loss improved from 0.71743 to 0.34992, saving model to weights.h5\n",
            "Epoch 4/10\n",
            "200/200 [==============================] - 118s 590ms/step - loss: 0.1750 - acc: 0.9365 - val_loss: 0.4670 - val_acc: 0.8313\n",
            "\n",
            "Epoch 00004: val_loss did not improve from 0.34992\n",
            "Epoch 5/10\n",
            "200/200 [==============================] - 118s 590ms/step - loss: 0.1828 - acc: 0.9353 - val_loss: 0.2250 - val_acc: 0.9292\n",
            "\n",
            "Epoch 00005: val_loss improved from 0.34992 to 0.22501, saving model to weights.h5\n",
            "Epoch 6/10\n",
            "200/200 [==============================] - 119s 595ms/step - loss: 0.1409 - acc: 0.9478 - val_loss: 0.1117 - val_acc: 0.9630\n",
            "\n",
            "Epoch 00006: val_loss improved from 0.22501 to 0.11174, saving model to weights.h5\n",
            "Epoch 7/10\n",
            "200/200 [==============================] - 118s 588ms/step - loss: 0.0909 - acc: 0.9659 - val_loss: 0.3880 - val_acc: 0.8828\n",
            "\n",
            "Epoch 00007: val_loss did not improve from 0.11174\n",
            "Epoch 8/10\n",
            "200/200 [==============================] - 117s 587ms/step - loss: 0.0998 - acc: 0.9637 - val_loss: 0.1482 - val_acc: 0.9592\n",
            "\n",
            "Epoch 00008: val_loss did not improve from 0.11174\n",
            "\n",
            "Epoch 00008: ReduceLROnPlateau reducing learning rate to 9.999999747378752e-06.\n",
            "Epoch 9/10\n",
            "200/200 [==============================] - 117s 587ms/step - loss: 0.0690 - acc: 0.9743 - val_loss: 0.0892 - val_acc: 0.9705\n",
            "\n",
            "Epoch 00009: val_loss improved from 0.11174 to 0.08918, saving model to weights.h5\n",
            "Epoch 10/10\n",
            "200/200 [==============================] - 117s 587ms/step - loss: 0.0479 - acc: 0.9831 - val_loss: 0.0866 - val_acc: 0.9737\n",
            "\n",
            "Epoch 00010: val_loss improved from 0.08918 to 0.08660, saving model to weights.h5\n"
          ],
          "name": "stdout"
        },
        {
          "output_type": "execute_result",
          "data": {
            "text/plain": [
              "<keras.callbacks.History at 0x7fdccb33ed30>"
            ]
          },
          "metadata": {
            "tags": []
          },
          "execution_count": 13
        }
      ]
    },
    {
      "metadata": {
        "id": "IR4ujNTqVqN5",
        "colab_type": "code",
        "outputId": "5151f7f4-e2ea-4f84-e367-364b20adfef8",
        "colab": {
          "base_uri": "https://localhost:8080/",
          "height": 51
        }
      },
      "cell_type": "code",
      "source": [
        "model.evaluate(X_test, y_test)"
      ],
      "execution_count": 0,
      "outputs": [
        {
          "output_type": "stream",
          "text": [
            "1595/1595 [==============================] - 12s 8ms/step\n"
          ],
          "name": "stdout"
        },
        {
          "output_type": "execute_result",
          "data": {
            "text/plain": [
              "[0.08613780146599002, 0.9699059564865495]"
            ]
          },
          "metadata": {
            "tags": []
          },
          "execution_count": 14
        }
      ]
    },
    {
      "metadata": {
        "id": "C4g1IdMbVu9m",
        "colab_type": "text"
      },
      "cell_type": "markdown",
      "source": [
        "Accuracy is less this time, because usually you need more epochs when you use augmentation.\n",
        "And our synthetic dataset alrady has a lot of rotations, so it is not so helpful here.\n",
        "\n",
        "But anyway you should remember this approach - it is very helpful for generalization."
      ]
    }
  ]
}